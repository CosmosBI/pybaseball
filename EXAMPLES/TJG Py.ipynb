{
 "cells": [
  {
   "cell_type": "code",
   "execution_count": 4,
   "metadata": {},
   "outputs": [
    {
     "ename": "AttributeError",
     "evalue": "module 'pybaseball.cache' has no attribute 'df_cache'",
     "output_type": "error",
     "traceback": [
      "\u001b[1;31m---------------------------------------------------------------------------\u001b[0m",
      "\u001b[1;31mAttributeError\u001b[0m                            Traceback (most recent call last)",
      "\u001b[1;32mUntitled-1.ipynb Cell 1'\u001b[0m in \u001b[0;36m<cell line: 1>\u001b[1;34m()\u001b[0m\n\u001b[1;32m----> <a href='vscode-notebook-cell:Untitled-1.ipynb?jupyter-notebook#ch0000000untitled?line=0'>1</a>\u001b[0m \u001b[39mimport\u001b[39;00m \u001b[39mpybaseball\u001b[39;00m \u001b[39mas\u001b[39;00m \u001b[39mpyball\u001b[39;00m\n\u001b[0;32m      <a href='vscode-notebook-cell:Untitled-1.ipynb?jupyter-notebook#ch0000000untitled?line=1'>2</a>\u001b[0m \u001b[39mimport\u001b[39;00m \u001b[39mnumpy\u001b[39;00m \u001b[39mas\u001b[39;00m \u001b[39mnp\u001b[39;00m\n\u001b[0;32m      <a href='vscode-notebook-cell:Untitled-1.ipynb?jupyter-notebook#ch0000000untitled?line=2'>3</a>\u001b[0m \u001b[39mimport\u001b[39;00m \u001b[39mpandas\u001b[39;00m \u001b[39mas\u001b[39;00m \u001b[39mpd\u001b[39;00m\n",
      "File \u001b[1;32mc:\\Users\\metsy\\source\\repos\\pybaseball\\pybaseball\\__init__.py:1\u001b[0m, in \u001b[0;36m<module>\u001b[1;34m\u001b[0m\n\u001b[1;32m----> 1\u001b[0m \u001b[39mimport\u001b[39;00m \u001b[39mpybaseball\u001b[39;00m\u001b[39m.\u001b[39;00m\u001b[39mutils\u001b[39;00m\n\u001b[0;32m      2\u001b[0m \u001b[39mfrom\u001b[39;00m \u001b[39m.\u001b[39;00m\u001b[39mplayerid_lookup\u001b[39;00m \u001b[39mimport\u001b[39;00m playerid_reverse_lookup\n\u001b[0;32m      3\u001b[0m \u001b[39mfrom\u001b[39;00m \u001b[39m.\u001b[39;00m\u001b[39mplayerid_lookup\u001b[39;00m \u001b[39mimport\u001b[39;00m player_search_list\n",
      "File \u001b[1;32mc:\\Users\\metsy\\source\\repos\\pybaseball\\pybaseball\\utils.py:266\u001b[0m, in \u001b[0;36m<module>\u001b[1;34m\u001b[0m\n\u001b[0;32m    262\u001b[0m \tstart_dt_date, end_dt_date \u001b[39m=\u001b[39m sanitize_date_range(start_dt, end_dt)\n\u001b[0;32m    263\u001b[0m \t\u001b[39mreturn\u001b[39;00m \u001b[39mstr\u001b[39m(start_dt_date), \u001b[39mstr\u001b[39m(end_dt_date), player_id_str\n\u001b[1;32m--> 266\u001b[0m \u001b[39m@cache\u001b[39m\u001b[39m.\u001b[39;49mdf_cache()\n\u001b[0;32m    267\u001b[0m \u001b[39mdef\u001b[39;00m \u001b[39msplit_request\u001b[39m(start_dt: \u001b[39mstr\u001b[39m, end_dt: \u001b[39mstr\u001b[39m, player_id: \u001b[39mint\u001b[39m, url: \u001b[39mstr\u001b[39m) \u001b[39m-\u001b[39m\u001b[39m>\u001b[39m pd\u001b[39m.\u001b[39mDataFrame:\n\u001b[0;32m    268\u001b[0m \t\u001b[39m\"\"\"\u001b[39;00m\n\u001b[0;32m    269\u001b[0m \u001b[39m\tSplits Statcast queries to avoid request timeouts\u001b[39;00m\n\u001b[0;32m    270\u001b[0m \u001b[39m\t\"\"\"\u001b[39;00m\n\u001b[0;32m    271\u001b[0m \tcurrent_dt \u001b[39m=\u001b[39m datetime\u001b[39m.\u001b[39mstrptime(start_dt, \u001b[39m'\u001b[39m\u001b[39m%\u001b[39m\u001b[39mY-\u001b[39m\u001b[39m%\u001b[39m\u001b[39mm-\u001b[39m\u001b[39m%d\u001b[39;00m\u001b[39m'\u001b[39m)\n",
      "\u001b[1;31mAttributeError\u001b[0m: module 'pybaseball.cache' has no attribute 'df_cache'"
     ]
    }
   ],
   "source": [
    "import pybaseball as pyball\n",
    "import numpy as np\n",
    "import pandas as pd"
   ]
  },
  {
   "cell_type": "code",
   "execution_count": 1,
   "metadata": {},
   "outputs": [],
   "source": [
    "import pybaseball as pyball\n",
    "import numpy as np\n",
    "import pandas as pd"
   ]
  },
  {
   "cell_type": "code",
   "execution_count": 50,
   "metadata": {},
   "outputs": [
    {
     "name": "stdout",
     "output_type": "stream",
     "text": [
      "    IDfg  Season Team    AB   HR\n",
      "0   None    2022  LAD  4433  171\n",
      "1   None    2022  STL  3607  132\n",
      "2   None    2022  SDP  4201  142\n",
      "3   None    2022  ATL  3932  165\n",
      "4   None    2022  NYM  4294  149\n",
      "5   None    2022  PHI  4036  151\n",
      "6   None    2022  MIL  3916  174\n",
      "7   None    2022  COL  3773  106\n",
      "8   None    2022  SFG  3228  106\n",
      "9   None    2022  CHC  3508  109\n",
      "10  None    2022  ARI  3360  108\n",
      "11  None    2022  CIN  2059   51\n",
      "12  None    2022  PIT  2922   86\n",
      "13  None    2022  WSN  2663   63\n",
      "14  None    2022  MIA  2445   45\n"
     ]
    }
   ],
   "source": [
    "from pybaseball import batting_stats\n",
    "\n",
    "# get all of this season's batting data so far\n",
    "data = batting_stats(2022,2022,league = \"NL\",ind = 1, stat_columns = [\"AB\",\"HR\"],qual = 0,split_seasons = True, month = \"ALL\",on_active_roster = True, minimum_age=0, maximum_age = 40, team = \"0,ts\")\n",
    "print(data)"
   ]
  }
 ],
 "metadata": {
  "kernelspec": {
   "display_name": "Python 3.9.7 ('PyBaseballenv': venv)",
   "language": "python",
   "name": "python3"
  },
  "language_info": {
   "codemirror_mode": {
    "name": "ipython",
    "version": 3
   },
   "file_extension": ".py",
   "mimetype": "text/x-python",
   "name": "python",
   "nbconvert_exporter": "python",
   "pygments_lexer": "ipython3",
   "version": "3.9.7"
  },
  "orig_nbformat": 4,
  "vscode": {
   "interpreter": {
    "hash": "6262f9ad0dead13bafad56c9bcf2bbab1da44a36157f9028c533b8033e07215d"
   }
  }
 },
 "nbformat": 4,
 "nbformat_minor": 2
}
