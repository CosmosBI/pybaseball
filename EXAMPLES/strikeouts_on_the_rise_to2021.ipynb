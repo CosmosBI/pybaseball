{
 "cells": [
  {
   "cell_type": "markdown",
   "metadata": {},
   "source": [
    "# Strikeouts on the Rise: Using pybaseball to Explore Historical Team Pitching Performance\n",
    "[This NY Times piece](http://www.nytimes.com/interactive/2013/03/29/sports/baseball/Strikeouts-Are-Still-Soaring.html) from 2013 showed that strikeouts are on the rise in Major League Baseball. In a simple infographic, it shows the gradual increase over time in strikeouts per game from 1900 to 2012. \n",
    "\n",
    "This is a brief example of how you can use pybaseball to replicate this graphic and answer other historical questions about team-level baseball statistics. "
   ]
  },
  {
   "cell_type": "code",
   "execution_count": 1,
   "metadata": {
    "collapsed": true
   },
   "outputs": [],
   "source": [
    "from pybaseball import team_pitching\n",
    "import matplotlib.pyplot as plt\n",
    "%matplotlib inline"
   ]
  },
  {
   "cell_type": "code",
   "execution_count": 14,
   "metadata": {
    "collapsed": true
   },
   "outputs": [],
   "source": [
    "#collect historic team pitching data from pybaseball\n",
    "pitching_data = team_pitching(2015,2021)"
   ]
  },
  {
   "cell_type": "code",
   "execution_count": 13,
   "metadata": {},
   "outputs": [
    {
     "name": "stdout",
     "output_type": "stream",
     "text": [
      "(168, 333)\n"
     ]
    }
   ],
   "source": [
    "print(pitching_data.shape)"
   ]
  },
  {
   "cell_type": "code",
   "execution_count": 15,
   "metadata": {},
   "outputs": [
    {
     "name": "stdout",
     "output_type": "stream",
     "text": [
      "   teamIDfg  Season Team  Age    W   L   ERA    G   GS  CG  ...    LA  \\\n",
      "0        28    2015  STL   28  100  62  2.94  677  162   1  ...   9.9   \n",
      "1        22    2020  LAD   27   43  17  3.02  309   60   0  ...  11.1   \n",
      "2        22    2021  LAD   28  106  56  3.03  762  162   1  ...  12.4   \n",
      "3        21    2018  HOU   28  103  59  3.11  672  162   3  ...  11.3   \n",
      "4        17    2016  CHC   29  103  58  3.15  665  162   5  ...  10.6   \n",
      "\n",
      "   Barrels  Barrel%  maxEV  HardHit  HardHit%  Events  CStr%   CSW%  xERA  \n",
      "0      183    0.043  119.2     1355     0.316    4283  0.167  0.265   NaN  \n",
      "1       80    0.054  115.5      487     0.327    1489  0.175  0.292   NaN  \n",
      "2      238    0.063  118.4     1313     0.346    3800  0.173  0.299   NaN  \n",
      "3      196    0.053  116.5     1232     0.331    3725  0.178  0.305   NaN  \n",
      "4      187    0.048  115.2     1283     0.326    3934  0.178  0.289   NaN  \n",
      "\n",
      "[5 rows x 333 columns]\n"
     ]
    }
   ],
   "source": [
    "#a quick look at the data\n",
    "\n",
    "print(pitching_data.head())"
   ]
  },
  {
   "cell_type": "code",
   "execution_count": 18,
   "metadata": {
    "collapsed": false
   },
   "outputs": [
    {
     "name": "stdout",
     "output_type": "stream",
     "text": [
      "data shape:  (210, 333)\n",
      "   teamIDfg  Season Team  Age    W   L   ERA    G   GS  CG  ...    LA  \\\n",
      "0        28    2015  STL   28  100  62  2.94  677  162   1  ...   9.9   \n",
      "1        22    2020  LAD   27   43  17  3.02  309   60   0  ...  11.1   \n",
      "2        22    2021  LAD   28  106  56  3.03  762  162   1  ...  12.4   \n",
      "3        21    2018  HOU   28  103  59  3.11  672  162   3  ...  11.3   \n",
      "4        17    2016  CHC   29  103  58  3.15  665  162   5  ...  10.6   \n",
      "\n",
      "   Barrels  Barrel%  maxEV  HardHit  HardHit%  Events  CStr%   CSW%  xERA  \n",
      "0      183    0.043  119.2     1355     0.316    4283  0.167  0.265   NaN  \n",
      "1       80    0.054  115.5      487     0.327    1489  0.175  0.292   NaN  \n",
      "2      238    0.063  118.4     1313     0.346    3800  0.173  0.299   NaN  \n",
      "3      196    0.053  116.5     1232     0.331    3725  0.178  0.305   NaN  \n",
      "4      187    0.048  115.2     1283     0.326    3934  0.178  0.289   NaN  \n",
      "\n",
      "[5 rows x 333 columns]\n"
     ]
    }
   ],
   "source": [
    "#a quick look at the data\n",
    "print(\"data shape: \", format(pitching_data.shape))\n",
    "\n",
    "print(pitching_data.head())"
   ]
  },
  {
   "cell_type": "code",
   "execution_count": 19,
   "metadata": {
    "collapsed": false,
    "scrolled": true
   },
   "outputs": [
    {
     "data": {
      "text/html": [
       "<div>\n",
       "<style scoped>\n",
       "    .dataframe tbody tr th:only-of-type {\n",
       "        vertical-align: middle;\n",
       "    }\n",
       "\n",
       "    .dataframe tbody tr th {\n",
       "        vertical-align: top;\n",
       "    }\n",
       "\n",
       "    .dataframe thead th {\n",
       "        text-align: right;\n",
       "    }\n",
       "</style>\n",
       "<table border=\"1\" class=\"dataframe\">\n",
       "  <thead>\n",
       "    <tr style=\"text-align: right;\">\n",
       "      <th></th>\n",
       "      <th>teamIDfg</th>\n",
       "      <th>Season</th>\n",
       "      <th>Age</th>\n",
       "      <th>W</th>\n",
       "      <th>L</th>\n",
       "      <th>ERA</th>\n",
       "      <th>G</th>\n",
       "      <th>GS</th>\n",
       "      <th>CG</th>\n",
       "      <th>ShO</th>\n",
       "      <th>...</th>\n",
       "      <th>LA</th>\n",
       "      <th>Barrels</th>\n",
       "      <th>Barrel%</th>\n",
       "      <th>maxEV</th>\n",
       "      <th>HardHit</th>\n",
       "      <th>HardHit%</th>\n",
       "      <th>Events</th>\n",
       "      <th>CStr%</th>\n",
       "      <th>CSW%</th>\n",
       "      <th>xERA</th>\n",
       "    </tr>\n",
       "  </thead>\n",
       "  <tbody>\n",
       "    <tr>\n",
       "      <th>count</th>\n",
       "      <td>210.000000</td>\n",
       "      <td>210.000000</td>\n",
       "      <td>210.000000</td>\n",
       "      <td>210.000000</td>\n",
       "      <td>210.000000</td>\n",
       "      <td>210.000000</td>\n",
       "      <td>210.000000</td>\n",
       "      <td>210.000000</td>\n",
       "      <td>210.000000</td>\n",
       "      <td>210.000000</td>\n",
       "      <td>...</td>\n",
       "      <td>210.000000</td>\n",
       "      <td>210.000000</td>\n",
       "      <td>210.000000</td>\n",
       "      <td>210.000000</td>\n",
       "      <td>210.000000</td>\n",
       "      <td>210.000000</td>\n",
       "      <td>210.000000</td>\n",
       "      <td>210.000000</td>\n",
       "      <td>210.000000</td>\n",
       "      <td>0.0</td>\n",
       "    </tr>\n",
       "    <tr>\n",
       "      <th>mean</th>\n",
       "      <td>15.500000</td>\n",
       "      <td>2018.000000</td>\n",
       "      <td>27.985714</td>\n",
       "      <td>73.680952</td>\n",
       "      <td>73.680952</td>\n",
       "      <td>4.271762</td>\n",
       "      <td>632.214286</td>\n",
       "      <td>147.371429</td>\n",
       "      <td>1.961905</td>\n",
       "      <td>0.952381</td>\n",
       "      <td>...</td>\n",
       "      <td>12.072381</td>\n",
       "      <td>238.680952</td>\n",
       "      <td>0.063629</td>\n",
       "      <td>116.863333</td>\n",
       "      <td>1351.457143</td>\n",
       "      <td>0.354557</td>\n",
       "      <td>3832.723810</td>\n",
       "      <td>0.167290</td>\n",
       "      <td>0.274462</td>\n",
       "      <td>NaN</td>\n",
       "    </tr>\n",
       "    <tr>\n",
       "      <th>std</th>\n",
       "      <td>8.676124</td>\n",
       "      <td>2.004779</td>\n",
       "      <td>0.950842</td>\n",
       "      <td>21.643659</td>\n",
       "      <td>21.622426</td>\n",
       "      <td>0.572039</td>\n",
       "      <td>154.643677</td>\n",
       "      <td>35.810575</td>\n",
       "      <td>1.963416</td>\n",
       "      <td>1.114334</td>\n",
       "      <td>...</td>\n",
       "      <td>1.482852</td>\n",
       "      <td>68.928839</td>\n",
       "      <td>0.012339</td>\n",
       "      <td>1.811563</td>\n",
       "      <td>348.544026</td>\n",
       "      <td>0.025560</td>\n",
       "      <td>985.181746</td>\n",
       "      <td>0.006416</td>\n",
       "      <td>0.011972</td>\n",
       "      <td>NaN</td>\n",
       "    </tr>\n",
       "    <tr>\n",
       "      <th>min</th>\n",
       "      <td>1.000000</td>\n",
       "      <td>2015.000000</td>\n",
       "      <td>26.000000</td>\n",
       "      <td>19.000000</td>\n",
       "      <td>17.000000</td>\n",
       "      <td>2.940000</td>\n",
       "      <td>228.000000</td>\n",
       "      <td>58.000000</td>\n",
       "      <td>0.000000</td>\n",
       "      <td>0.000000</td>\n",
       "      <td>...</td>\n",
       "      <td>7.800000</td>\n",
       "      <td>80.000000</td>\n",
       "      <td>0.039000</td>\n",
       "      <td>113.200000</td>\n",
       "      <td>460.000000</td>\n",
       "      <td>0.286000</td>\n",
       "      <td>1268.000000</td>\n",
       "      <td>0.149000</td>\n",
       "      <td>0.249000</td>\n",
       "      <td>NaN</td>\n",
       "    </tr>\n",
       "    <tr>\n",
       "      <th>25%</th>\n",
       "      <td>8.000000</td>\n",
       "      <td>2016.000000</td>\n",
       "      <td>27.000000</td>\n",
       "      <td>67.000000</td>\n",
       "      <td>67.000000</td>\n",
       "      <td>3.852500</td>\n",
       "      <td>647.250000</td>\n",
       "      <td>162.000000</td>\n",
       "      <td>1.000000</td>\n",
       "      <td>0.000000</td>\n",
       "      <td>...</td>\n",
       "      <td>11.100000</td>\n",
       "      <td>209.250000</td>\n",
       "      <td>0.053000</td>\n",
       "      <td>115.600000</td>\n",
       "      <td>1344.500000</td>\n",
       "      <td>0.335250</td>\n",
       "      <td>3991.750000</td>\n",
       "      <td>0.163000</td>\n",
       "      <td>0.265250</td>\n",
       "      <td>NaN</td>\n",
       "    </tr>\n",
       "    <tr>\n",
       "      <th>50%</th>\n",
       "      <td>15.500000</td>\n",
       "      <td>2018.000000</td>\n",
       "      <td>28.000000</td>\n",
       "      <td>78.000000</td>\n",
       "      <td>78.000000</td>\n",
       "      <td>4.215000</td>\n",
       "      <td>682.000000</td>\n",
       "      <td>162.000000</td>\n",
       "      <td>1.000000</td>\n",
       "      <td>1.000000</td>\n",
       "      <td>...</td>\n",
       "      <td>12.200000</td>\n",
       "      <td>242.500000</td>\n",
       "      <td>0.063000</td>\n",
       "      <td>116.600000</td>\n",
       "      <td>1457.500000</td>\n",
       "      <td>0.352000</td>\n",
       "      <td>4202.500000</td>\n",
       "      <td>0.167000</td>\n",
       "      <td>0.274000</td>\n",
       "      <td>NaN</td>\n",
       "    </tr>\n",
       "    <tr>\n",
       "      <th>75%</th>\n",
       "      <td>23.000000</td>\n",
       "      <td>2020.000000</td>\n",
       "      <td>29.000000</td>\n",
       "      <td>89.750000</td>\n",
       "      <td>88.750000</td>\n",
       "      <td>4.687500</td>\n",
       "      <td>714.750000</td>\n",
       "      <td>162.000000</td>\n",
       "      <td>3.000000</td>\n",
       "      <td>1.000000</td>\n",
       "      <td>...</td>\n",
       "      <td>13.000000</td>\n",
       "      <td>286.000000</td>\n",
       "      <td>0.072000</td>\n",
       "      <td>118.000000</td>\n",
       "      <td>1550.250000</td>\n",
       "      <td>0.374000</td>\n",
       "      <td>4347.000000</td>\n",
       "      <td>0.171000</td>\n",
       "      <td>0.282750</td>\n",
       "      <td>NaN</td>\n",
       "    </tr>\n",
       "    <tr>\n",
       "      <th>max</th>\n",
       "      <td>30.000000</td>\n",
       "      <td>2021.000000</td>\n",
       "      <td>31.000000</td>\n",
       "      <td>108.000000</td>\n",
       "      <td>115.000000</td>\n",
       "      <td>5.850000</td>\n",
       "      <td>794.000000</td>\n",
       "      <td>163.000000</td>\n",
       "      <td>11.000000</td>\n",
       "      <td>5.000000</td>\n",
       "      <td>...</td>\n",
       "      <td>15.700000</td>\n",
       "      <td>411.000000</td>\n",
       "      <td>0.098000</td>\n",
       "      <td>122.200000</td>\n",
       "      <td>1829.000000</td>\n",
       "      <td>0.417000</td>\n",
       "      <td>4639.000000</td>\n",
       "      <td>0.187000</td>\n",
       "      <td>0.307000</td>\n",
       "      <td>NaN</td>\n",
       "    </tr>\n",
       "  </tbody>\n",
       "</table>\n",
       "<p>8 rows × 330 columns</p>\n",
       "</div>"
      ],
      "text/plain": [
       "         teamIDfg       Season         Age           W           L  \\\n",
       "count  210.000000   210.000000  210.000000  210.000000  210.000000   \n",
       "mean    15.500000  2018.000000   27.985714   73.680952   73.680952   \n",
       "std      8.676124     2.004779    0.950842   21.643659   21.622426   \n",
       "min      1.000000  2015.000000   26.000000   19.000000   17.000000   \n",
       "25%      8.000000  2016.000000   27.000000   67.000000   67.000000   \n",
       "50%     15.500000  2018.000000   28.000000   78.000000   78.000000   \n",
       "75%     23.000000  2020.000000   29.000000   89.750000   88.750000   \n",
       "max     30.000000  2021.000000   31.000000  108.000000  115.000000   \n",
       "\n",
       "              ERA           G          GS          CG         ShO  ...  \\\n",
       "count  210.000000  210.000000  210.000000  210.000000  210.000000  ...   \n",
       "mean     4.271762  632.214286  147.371429    1.961905    0.952381  ...   \n",
       "std      0.572039  154.643677   35.810575    1.963416    1.114334  ...   \n",
       "min      2.940000  228.000000   58.000000    0.000000    0.000000  ...   \n",
       "25%      3.852500  647.250000  162.000000    1.000000    0.000000  ...   \n",
       "50%      4.215000  682.000000  162.000000    1.000000    1.000000  ...   \n",
       "75%      4.687500  714.750000  162.000000    3.000000    1.000000  ...   \n",
       "max      5.850000  794.000000  163.000000   11.000000    5.000000  ...   \n",
       "\n",
       "               LA     Barrels     Barrel%       maxEV      HardHit  \\\n",
       "count  210.000000  210.000000  210.000000  210.000000   210.000000   \n",
       "mean    12.072381  238.680952    0.063629  116.863333  1351.457143   \n",
       "std      1.482852   68.928839    0.012339    1.811563   348.544026   \n",
       "min      7.800000   80.000000    0.039000  113.200000   460.000000   \n",
       "25%     11.100000  209.250000    0.053000  115.600000  1344.500000   \n",
       "50%     12.200000  242.500000    0.063000  116.600000  1457.500000   \n",
       "75%     13.000000  286.000000    0.072000  118.000000  1550.250000   \n",
       "max     15.700000  411.000000    0.098000  122.200000  1829.000000   \n",
       "\n",
       "         HardHit%       Events       CStr%        CSW%  xERA  \n",
       "count  210.000000   210.000000  210.000000  210.000000   0.0  \n",
       "mean     0.354557  3832.723810    0.167290    0.274462   NaN  \n",
       "std      0.025560   985.181746    0.006416    0.011972   NaN  \n",
       "min      0.286000  1268.000000    0.149000    0.249000   NaN  \n",
       "25%      0.335250  3991.750000    0.163000    0.265250   NaN  \n",
       "50%      0.352000  4202.500000    0.167000    0.274000   NaN  \n",
       "75%      0.374000  4347.000000    0.171000    0.282750   NaN  \n",
       "max      0.417000  4639.000000    0.187000    0.307000   NaN  \n",
       "\n",
       "[8 rows x 330 columns]"
      ]
     },
     "execution_count": 19,
     "metadata": {},
     "output_type": "execute_result"
    }
   ],
   "source": [
    "# some summary stats\n",
    "pitching_data.describe()"
   ]
  },
  {
   "cell_type": "code",
   "execution_count": 22,
   "metadata": {
    "collapsed": false
   },
   "outputs": [],
   "source": [
    "# get league-average SO/game by year\n",
    "league_average = pitching_data.groupby('Season', as_index=False)['K/9'].mean()"
   ]
  },
  {
   "cell_type": "code",
   "execution_count": 23,
   "metadata": {
    "collapsed": false
   },
   "outputs": [
    {
     "data": {
      "image/png": "[encoded data removed]",
      "text/plain": [
       "<Figure size 432x288 with 1 Axes>"
      ]
     },
     "metadata": {
      "needs_background": "light"
     },
     "output_type": "display_data"
    }
   ],
   "source": [
    "# plot avg. SO/game over time\n",
    "plt.scatter(pitching_data['Season'], pitching_data['K/9'])\n",
    "plt.plot(league_average['Season'], league_average['K/9'], c='red')\n",
    "plt.xlim(2015,2021)\n",
    "plt.ylim(2,10)\n",
    "plt.xlabel('Season')\n",
    "plt.ylabel('Average Strikeouts per Game')\n",
    "plt.title('Strikeouts per Game over Time');"
   ]
  },
  {
   "cell_type": "code",
   "execution_count": null,
   "metadata": {
    "collapsed": true
   },
   "outputs": [],
   "source": []
  }
 ],
 "metadata": {
  "interpreter": {
   "hash": "44605432b036a0ee86ac05d502917ad39e2389126d49cfa06c436dc1c278eba2"
  },
  "kernelspec": {
   "display_name": "Python 2",
   "language": "python",
   "name": "python3"
  },
  "language_info": {
   "codemirror_mode": {
    "name": "ipython",
    "version": 3
   },
   "file_extension": ".py",
   "mimetype": "text/x-python",
   "name": "python",
   "nbconvert_exporter": "python",
   "pygments_lexer": "ipython3",
   "version": "3.9.7"
  }
 },
 "nbformat": 4,
 "nbformat_minor": 0
}
