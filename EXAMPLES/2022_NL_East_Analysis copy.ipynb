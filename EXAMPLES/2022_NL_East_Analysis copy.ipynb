{
 "cells": [
  {
   "cell_type": "markdown",
   "metadata": {},
   "source": [
    "# Exploring the NL East with pybaseball\n",
    "\n",
    "A brief analysis and visualization of the NL East division in 2022. Teams: Braves, Marlins, Mets, Nationals, Phillies."
   ]
  },
  {
   "cell_type": "code",
   "execution_count": 1,
   "metadata": {
    "collapsed": true
   },
   "outputs": [],
   "source": [
    "import pybaseball as pyball\n",
    "import numpy as np\n",
    "import pandas as pd\n",
    "import matplotlib.pyplot as plt\n",
    "\n",
    "%matplotlib inline"
   ]
  },
  {
   "cell_type": "code",
   "execution_count": 2,
   "metadata": {},
   "outputs": [
    {
     "data": {
      "text/html": [
       "<div>\n",
       "<style scoped>\n",
       "    .dataframe tbody tr th:only-of-type {\n",
       "        vertical-align: middle;\n",
       "    }\n",
       "\n",
       "    .dataframe tbody tr th {\n",
       "        vertical-align: top;\n",
       "    }\n",
       "\n",
       "    .dataframe thead th {\n",
       "        text-align: right;\n",
       "    }\n",
       "</style>\n",
       "<table border=\"1\" class=\"dataframe\">\n",
       "  <thead>\n",
       "    <tr style=\"text-align: right;\">\n",
       "      <th></th>\n",
       "      <th>yearID</th>\n",
       "      <th>lgID</th>\n",
       "      <th>teamID</th>\n",
       "      <th>franchID</th>\n",
       "      <th>teamIDfg</th>\n",
       "      <th>teamIDBR</th>\n",
       "      <th>teamIDretro</th>\n",
       "    </tr>\n",
       "  </thead>\n",
       "  <tbody>\n",
       "    <tr>\n",
       "      <th>0</th>\n",
       "      <td>1871</td>\n",
       "      <td>NaN</td>\n",
       "      <td>BS1</td>\n",
       "      <td>BNA</td>\n",
       "      <td>16</td>\n",
       "      <td>BOS</td>\n",
       "      <td>BS1</td>\n",
       "    </tr>\n",
       "    <tr>\n",
       "      <th>1</th>\n",
       "      <td>1871</td>\n",
       "      <td>NaN</td>\n",
       "      <td>CH1</td>\n",
       "      <td>CNA</td>\n",
       "      <td>17</td>\n",
       "      <td>CHI</td>\n",
       "      <td>CH1</td>\n",
       "    </tr>\n",
       "    <tr>\n",
       "      <th>2</th>\n",
       "      <td>1871</td>\n",
       "      <td>NaN</td>\n",
       "      <td>CL1</td>\n",
       "      <td>CFC</td>\n",
       "      <td>1020</td>\n",
       "      <td>CLE</td>\n",
       "      <td>CL1</td>\n",
       "    </tr>\n",
       "    <tr>\n",
       "      <th>3</th>\n",
       "      <td>1871</td>\n",
       "      <td>NaN</td>\n",
       "      <td>FW1</td>\n",
       "      <td>KEK</td>\n",
       "      <td>1042</td>\n",
       "      <td>KEK</td>\n",
       "      <td>FW1</td>\n",
       "    </tr>\n",
       "    <tr>\n",
       "      <th>4</th>\n",
       "      <td>1871</td>\n",
       "      <td>NaN</td>\n",
       "      <td>NY2</td>\n",
       "      <td>NNA</td>\n",
       "      <td>1053</td>\n",
       "      <td>NYU</td>\n",
       "      <td>NY2</td>\n",
       "    </tr>\n",
       "    <tr>\n",
       "      <th>...</th>\n",
       "      <td>...</td>\n",
       "      <td>...</td>\n",
       "      <td>...</td>\n",
       "      <td>...</td>\n",
       "      <td>...</td>\n",
       "      <td>...</td>\n",
       "      <td>...</td>\n",
       "    </tr>\n",
       "    <tr>\n",
       "      <th>2950</th>\n",
       "      <td>2020</td>\n",
       "      <td>NL</td>\n",
       "      <td>PIT</td>\n",
       "      <td>PIT</td>\n",
       "      <td>27</td>\n",
       "      <td>PIT</td>\n",
       "      <td>PIT</td>\n",
       "    </tr>\n",
       "    <tr>\n",
       "      <th>2951</th>\n",
       "      <td>2020</td>\n",
       "      <td>NL</td>\n",
       "      <td>SDN</td>\n",
       "      <td>SDP</td>\n",
       "      <td>29</td>\n",
       "      <td>SDP</td>\n",
       "      <td>SDN</td>\n",
       "    </tr>\n",
       "    <tr>\n",
       "      <th>2952</th>\n",
       "      <td>2020</td>\n",
       "      <td>NL</td>\n",
       "      <td>SFN</td>\n",
       "      <td>SFG</td>\n",
       "      <td>30</td>\n",
       "      <td>SFG</td>\n",
       "      <td>SFN</td>\n",
       "    </tr>\n",
       "    <tr>\n",
       "      <th>2953</th>\n",
       "      <td>2020</td>\n",
       "      <td>NL</td>\n",
       "      <td>SLN</td>\n",
       "      <td>STL</td>\n",
       "      <td>28</td>\n",
       "      <td>STL</td>\n",
       "      <td>SLN</td>\n",
       "    </tr>\n",
       "    <tr>\n",
       "      <th>2954</th>\n",
       "      <td>2020</td>\n",
       "      <td>NL</td>\n",
       "      <td>WAS</td>\n",
       "      <td>WSN</td>\n",
       "      <td>24</td>\n",
       "      <td>WSN</td>\n",
       "      <td>WAS</td>\n",
       "    </tr>\n",
       "  </tbody>\n",
       "</table>\n",
       "<p>2955 rows × 7 columns</p>\n",
       "</div>"
      ],
      "text/plain": [
       "      yearID lgID teamID franchID  teamIDfg teamIDBR teamIDretro\n",
       "0       1871  NaN    BS1      BNA        16      BOS         BS1\n",
       "1       1871  NaN    CH1      CNA        17      CHI         CH1\n",
       "2       1871  NaN    CL1      CFC      1020      CLE         CL1\n",
       "3       1871  NaN    FW1      KEK      1042      KEK         FW1\n",
       "4       1871  NaN    NY2      NNA      1053      NYU         NY2\n",
       "...      ...  ...    ...      ...       ...      ...         ...\n",
       "2950    2020   NL    PIT      PIT        27      PIT         PIT\n",
       "2951    2020   NL    SDN      SDP        29      SDP         SDN\n",
       "2952    2020   NL    SFN      SFG        30      SFG         SFN\n",
       "2953    2020   NL    SLN      STL        28      STL         SLN\n",
       "2954    2020   NL    WAS      WSN        24      WSN         WAS\n",
       "\n",
       "[2955 rows x 7 columns]"
      ]
     },
     "execution_count": 2,
     "metadata": {},
     "output_type": "execute_result"
    }
   ],
   "source": [
    "teams = pyball.fangraphs_teams  #this was put in by TJG to see team codes\n",
    "teams()"
   ]
  },
  {
   "cell_type": "code",
   "execution_count": 4,
   "metadata": {},
   "outputs": [],
   "source": [
    "newdf = pyball.pitching_stats(2015, 2022,league='all', qual=1, ind=1)"
   ]
  },
  {
   "cell_type": "code",
   "execution_count": 5,
   "metadata": {},
   "outputs": [
    {
     "data": {
      "text/plain": [
       "<bound method NDFrame.describe of        IDfg  Season             Name Team  Age   W  L  WAR   ERA   G  ...  \\\n",
       "447   10954    2018     Jacob deGrom  NYM   30  10  9  9.0  1.70  32  ...   \n",
       "607    2036    2015  Clayton Kershaw  LAD   27  16  7  8.6  2.13  33  ...   \n",
       "1192  10603    2017       Chris Sale  BOS   28  17  8  7.6  2.90  32  ...   \n",
       "857   13125    2019      Gerrit Cole  HOU   28  20  5  7.5  2.50  33  ...   \n",
       "874    3137    2018     Max Scherzer  WSN   33  18  7  7.5  2.53  33  ...   \n",
       "...     ...     ...              ...  ...  ...  .. ..  ...   ...  ..  ...   \n",
       "4767  13418    2017       Chris Beck  CHW   26   2  1 -1.2  6.40  57  ...   \n",
       "3480  11528    2016       Josh Osich  SFG   27   1  3 -1.2  4.71  59  ...   \n",
       "4893  15846    2021      Adam Plutko  BAL   29   1  2 -1.2  6.71  38  ...   \n",
       "3675  18282    2018    Jarlin Garcia  MIA   25   3  3 -1.3  4.91  29  ...   \n",
       "4640   9388    2018      Josh Tomlin  CLE   33   2  5 -1.4  6.14  32  ...   \n",
       "\n",
       "        LA  Barrels  Barrel%  maxEV  HardHit  HardHit%  Events  CStr%   CSW%  \\\n",
       "447   11.1     20.0    0.039  112.9    148.0     0.287     515  0.164  0.315   \n",
       "607    8.9     15.0    0.028  113.3    132.0     0.244     542  0.164  0.323   \n",
       "1192  15.0     27.0    0.055  112.7    149.0     0.303     492  0.183  0.332   \n",
       "857   14.0     25.0    0.057  115.2    156.0     0.355     440  0.171  0.339   \n",
       "874   20.6     34.0    0.068  111.1    159.0     0.316     503  0.165  0.327   \n",
       "...    ...      ...      ...    ...      ...       ...     ...    ...    ...   \n",
       "4767  14.5     15.0    0.070  112.3     77.0     0.360     214  0.151  0.226   \n",
       "3480   0.8      6.0    0.054  111.8     35.0     0.313     112  0.113  0.217   \n",
       "4893  23.2     21.0    0.116  113.1     72.0     0.398     181  0.114  0.217   \n",
       "3675  12.8     22.0    0.105  112.0     78.0     0.371     210  0.175  0.257   \n",
       "4640  18.1     27.0    0.104  117.1     96.0     0.371     259  0.166  0.255   \n",
       "\n",
       "      xERA  \n",
       "447    NaN  \n",
       "607    NaN  \n",
       "1192   NaN  \n",
       "857    NaN  \n",
       "874    NaN  \n",
       "...    ...  \n",
       "4767   NaN  \n",
       "3480   NaN  \n",
       "4893   NaN  \n",
       "3675   NaN  \n",
       "4640   NaN  \n",
       "\n",
       "[6087 rows x 334 columns]>"
      ]
     },
     "execution_count": 5,
     "metadata": {},
     "output_type": "execute_result"
    }
   ],
   "source": [
    "newdf.describe\n"
   ]
  },
  {
   "cell_type": "code",
   "execution_count": 3,
   "metadata": {},
   "outputs": [
    {
     "name": "stderr",
     "output_type": "stream",
     "text": [
      "c:\\Users\\metsy\\source\\repos\\pybaseball\\TJGPyBaseball Environment\\lib\\site-packages\\pybaseball\\league_pitching_stats.py:68: FutureWarning: In a future version of pandas all arguments of DataFrame.drop except for the argument 'labels' will be keyword-only.\n",
      "  table = table.drop('',1)\n"
     ]
    }
   ],
   "source": [
    "df = pyball.pitching_stats_range(\"2022-06-01\", \"2022-06-10\")"
   ]
  },
  {
   "cell_type": "code",
   "execution_count": 4,
   "metadata": {},
   "outputs": [
    {
     "data": {
      "text/plain": [
       "<bound method NDFrame.describe of                  Name  Age  #days     Lev             Tm  G  GS    W    L  \\\n",
       "1        Albert Abreu   26      1  Maj-AL    Kansas City  3   0  NaN  NaN   \n",
       "2         Bryan Abreu   25      1  Maj-AL        Houston  4   0  1.0  NaN   \n",
       "3     Domingo Acevedo   28      3  Maj-AL        Oakland  4   0  NaN  NaN   \n",
       "4          Jason Adam   30      2  Maj-AL      Tampa Bay  5   0  NaN  NaN   \n",
       "5           Joan Adon   23      4  Maj-NL     Washington  2   2  NaN  2.0   \n",
       "..                ...  ...    ...     ...            ... ..  ..  ...  ...   \n",
       "479         Alex Wood   31      3  Maj-NL  San Francisco  2   2  NaN  1.0   \n",
       "480     Jake Woodford   25      7  Maj-NL      St. Louis  1   0  NaN  NaN   \n",
       "481       Kyle Wright   26      4  Maj-NL        Atlanta  2   2  2.0  NaN   \n",
       "482    Ryan Yarbrough   30      6  Maj-AL      Tampa Bay  1   1  NaN  1.0   \n",
       "483  Bruce Zimmermann   27      1  Maj-AL      Baltimore  2   2  NaN  2.0   \n",
       "\n",
       "      SV  ...   Str   StL   StS  GB/FB    LD    PU   WHIP  BAbip   SO9  SO/W  \n",
       "1    NaN  ...  0.56  0.12  0.09   0.64  0.18  0.00  2.333  0.400   6.0   1.0  \n",
       "2    NaN  ...  0.65  0.13  0.18   0.63  0.25  0.13  0.818  0.250  12.3   5.0  \n",
       "3    NaN  ...  0.68  0.10  0.15   0.25  0.25  0.25  1.125  0.143   6.8   2.0  \n",
       "4    1.0  ...  0.59  0.12  0.11   0.50  0.17  0.08  1.154  0.250   4.2   1.0  \n",
       "5    NaN  ...  0.56  0.15  0.04   0.50  0.20  0.07  2.280  0.370   6.5   1.0  \n",
       "..   ...  ...   ...   ...   ...    ...   ...   ...    ...    ...   ...   ...  \n",
       "479  NaN  ...  0.66  0.19  0.10   0.47  0.26  0.12  0.892  0.265   7.3   5.0  \n",
       "480  NaN  ...  0.55  0.14  0.08   0.23  0.31  0.15  2.000  0.385   3.0   1.0  \n",
       "481  NaN  ...  0.67  0.21  0.14   0.50  0.31  0.06  0.929  0.222   7.7   2.4  \n",
       "482  NaN  ...  0.63  0.18  0.01   0.15  0.38  0.08  6.000  0.615   0.0   0.0  \n",
       "483  NaN  ...  0.71  0.17  0.07   0.43  0.22  0.04  1.936  0.383   2.6   NaN  \n",
       "\n",
       "[465 rows x 40 columns]>"
      ]
     },
     "execution_count": 4,
     "metadata": {},
     "output_type": "execute_result"
    }
   ],
   "source": [
    "df.describe"
   ]
  },
  {
   "cell_type": "code",
   "execution_count": 5,
   "metadata": {},
   "outputs": [
    {
     "data": {
      "text/plain": [
       "18600"
      ]
     },
     "execution_count": 5,
     "metadata": {},
     "output_type": "execute_result"
    }
   ],
   "source": [
    "df.size"
   ]
  },
  {
   "cell_type": "code",
   "execution_count": 2,
   "metadata": {
    "scrolled": true
   },
   "outputs": [
    {
     "name": "stderr",
     "output_type": "stream",
     "text": [
      "c:\\Users\\metsy\\source\\repos\\pybaseball\\TJGPyBaseball Environment\\lib\\site-packages\\pybaseball\\team_results.py:70: FutureWarning: In a future version of pandas all arguments of DataFrame.drop except for the argument 'labels' will be keyword-only.\n",
      "  data = data.drop('',1) #not a useful column\n",
      "c:\\Users\\metsy\\source\\repos\\pybaseball\\TJGPyBaseball Environment\\lib\\site-packages\\pybaseball\\team_results.py:83: FutureWarning: In a future version of pandas all arguments of DataFrame.drop except for the argument 'labels' will be keyword-only.\n",
      "  data = data.drop('Streak2',1)\n",
      "c:\\Users\\metsy\\source\\repos\\pybaseball\\TJGPyBaseball Environment\\lib\\site-packages\\pybaseball\\team_results.py:70: FutureWarning: In a future version of pandas all arguments of DataFrame.drop except for the argument 'labels' will be keyword-only.\n",
      "  data = data.drop('',1) #not a useful column\n",
      "c:\\Users\\metsy\\source\\repos\\pybaseball\\TJGPyBaseball Environment\\lib\\site-packages\\pybaseball\\team_results.py:83: FutureWarning: In a future version of pandas all arguments of DataFrame.drop except for the argument 'labels' will be keyword-only.\n",
      "  data = data.drop('Streak2',1)\n",
      "c:\\Users\\metsy\\source\\repos\\pybaseball\\TJGPyBaseball Environment\\lib\\site-packages\\pybaseball\\team_results.py:70: FutureWarning: In a future version of pandas all arguments of DataFrame.drop except for the argument 'labels' will be keyword-only.\n",
      "  data = data.drop('',1) #not a useful column\n",
      "c:\\Users\\metsy\\source\\repos\\pybaseball\\TJGPyBaseball Environment\\lib\\site-packages\\pybaseball\\team_results.py:83: FutureWarning: In a future version of pandas all arguments of DataFrame.drop except for the argument 'labels' will be keyword-only.\n",
      "  data = data.drop('Streak2',1)\n",
      "c:\\Users\\metsy\\source\\repos\\pybaseball\\TJGPyBaseball Environment\\lib\\site-packages\\pybaseball\\team_results.py:70: FutureWarning: In a future version of pandas all arguments of DataFrame.drop except for the argument 'labels' will be keyword-only.\n",
      "  data = data.drop('',1) #not a useful column\n",
      "c:\\Users\\metsy\\source\\repos\\pybaseball\\TJGPyBaseball Environment\\lib\\site-packages\\pybaseball\\team_results.py:83: FutureWarning: In a future version of pandas all arguments of DataFrame.drop except for the argument 'labels' will be keyword-only.\n",
      "  data = data.drop('Streak2',1)\n",
      "c:\\Users\\metsy\\source\\repos\\pybaseball\\TJGPyBaseball Environment\\lib\\site-packages\\pybaseball\\team_results.py:70: FutureWarning: In a future version of pandas all arguments of DataFrame.drop except for the argument 'labels' will be keyword-only.\n",
      "  data = data.drop('',1) #not a useful column\n",
      "c:\\Users\\metsy\\source\\repos\\pybaseball\\TJGPyBaseball Environment\\lib\\site-packages\\pybaseball\\team_results.py:83: FutureWarning: In a future version of pandas all arguments of DataFrame.drop except for the argument 'labels' will be keyword-only.\n",
      "  data = data.drop('Streak2',1)\n"
     ]
    }
   ],
   "source": [
    "# Get all NL East Team Records for 2018\n",
    "year = 2022\n",
    "\n",
    "braves = pyball.schedule_and_record(year, 'ATL')\n",
    "marlins = pyball.schedule_and_record(year, 'MIA')\n",
    "mets = pyball.schedule_and_record(year, 'NYN')\n",
    "nationals = pyball.schedule_and_record(year, 'WSN')\n",
    "phillies = pyball.schedule_and_record(year, 'CIN')"
   ]
  },
  {
   "cell_type": "markdown",
   "metadata": {},
   "source": [
    "## Summary Statistics\n",
    "A quick glance at the summary statistics for each team in order of their ending division rank.\n",
    "\n",
    "Looking at these statistics, you can see the similarity in overall performance. Mean Runs are very similar for the top three teams with the #3 Mets slightly edging out the Braves and marlins. However, in Runs Allowed, the #2 marlins come out in front, with the Braves second, and the Mets third.\n",
    "\n",
    "Interestingly, the hottest streak belongs to the Nationals, who ended the season ranked 4th in the division."
   ]
  },
  {
   "cell_type": "code",
   "execution_count": 26,
   "metadata": {
    "scrolled": false
   },
   "outputs": [
    {
     "data": {
      "text/html": [
       "<div>\n",
       "<style scoped>\n",
       "    .dataframe tbody tr th:only-of-type {\n",
       "        vertical-align: middle;\n",
       "    }\n",
       "\n",
       "    .dataframe tbody tr th {\n",
       "        vertical-align: top;\n",
       "    }\n",
       "\n",
       "    .dataframe thead th {\n",
       "        text-align: right;\n",
       "    }\n",
       "</style>\n",
       "<table border=\"1\" class=\"dataframe\">\n",
       "  <thead>\n",
       "    <tr style=\"text-align: right;\">\n",
       "      <th></th>\n",
       "      <th>R</th>\n",
       "      <th>RA</th>\n",
       "      <th>Inn</th>\n",
       "      <th>Rank</th>\n",
       "      <th>Attendance</th>\n",
       "      <th>Streak</th>\n",
       "    </tr>\n",
       "  </thead>\n",
       "  <tbody>\n",
       "    <tr>\n",
       "      <th>count</th>\n",
       "      <td>21.000000</td>\n",
       "      <td>21.000000</td>\n",
       "      <td>21.000000</td>\n",
       "      <td>21.000000</td>\n",
       "      <td>21.000000</td>\n",
       "      <td>20.000000</td>\n",
       "    </tr>\n",
       "    <tr>\n",
       "      <th>mean</th>\n",
       "      <td>4.047619</td>\n",
       "      <td>4.428571</td>\n",
       "      <td>9.047619</td>\n",
       "      <td>2.809524</td>\n",
       "      <td>38687.000000</td>\n",
       "      <td>-0.150000</td>\n",
       "    </tr>\n",
       "    <tr>\n",
       "      <th>std</th>\n",
       "      <td>3.308719</td>\n",
       "      <td>3.370036</td>\n",
       "      <td>0.218218</td>\n",
       "      <td>0.679636</td>\n",
       "      <td>6473.501062</td>\n",
       "      <td>1.460894</td>\n",
       "    </tr>\n",
       "    <tr>\n",
       "      <th>min</th>\n",
       "      <td>1.000000</td>\n",
       "      <td>0.000000</td>\n",
       "      <td>9.000000</td>\n",
       "      <td>2.000000</td>\n",
       "      <td>25829.000000</td>\n",
       "      <td>-2.000000</td>\n",
       "    </tr>\n",
       "    <tr>\n",
       "      <th>25%</th>\n",
       "      <td>2.000000</td>\n",
       "      <td>2.000000</td>\n",
       "      <td>9.000000</td>\n",
       "      <td>2.000000</td>\n",
       "      <td>34183.000000</td>\n",
       "      <td>-1.000000</td>\n",
       "    </tr>\n",
       "    <tr>\n",
       "      <th>50%</th>\n",
       "      <td>3.000000</td>\n",
       "      <td>4.000000</td>\n",
       "      <td>9.000000</td>\n",
       "      <td>3.000000</td>\n",
       "      <td>38888.000000</td>\n",
       "      <td>-1.000000</td>\n",
       "    </tr>\n",
       "    <tr>\n",
       "      <th>75%</th>\n",
       "      <td>5.000000</td>\n",
       "      <td>6.000000</td>\n",
       "      <td>9.000000</td>\n",
       "      <td>3.000000</td>\n",
       "      <td>41931.000000</td>\n",
       "      <td>1.000000</td>\n",
       "    </tr>\n",
       "    <tr>\n",
       "      <th>max</th>\n",
       "      <td>16.000000</td>\n",
       "      <td>12.000000</td>\n",
       "      <td>10.000000</td>\n",
       "      <td>4.000000</td>\n",
       "      <td>52052.000000</td>\n",
       "      <td>2.000000</td>\n",
       "    </tr>\n",
       "  </tbody>\n",
       "</table>\n",
       "</div>"
      ],
      "text/plain": [
       "               R         RA        Inn       Rank    Attendance     Streak\n",
       "count  21.000000  21.000000  21.000000  21.000000     21.000000  20.000000\n",
       "mean    4.047619   4.428571   9.047619   2.809524  38687.000000  -0.150000\n",
       "std     3.308719   3.370036   0.218218   0.679636   6473.501062   1.460894\n",
       "min     1.000000   0.000000   9.000000   2.000000  25829.000000  -2.000000\n",
       "25%     2.000000   2.000000   9.000000   2.000000  34183.000000  -1.000000\n",
       "50%     3.000000   4.000000   9.000000   3.000000  38888.000000  -1.000000\n",
       "75%     5.000000   6.000000   9.000000   3.000000  41931.000000   1.000000\n",
       "max    16.000000  12.000000  10.000000   4.000000  52052.000000   2.000000"
      ]
     },
     "execution_count": 26,
     "metadata": {},
     "output_type": "execute_result"
    }
   ],
   "source": [
    "braves.describe()"
   ]
  },
  {
   "cell_type": "code",
   "execution_count": 27,
   "metadata": {},
   "outputs": [
    {
     "data": {
      "text/html": [
       "<div>\n",
       "<style scoped>\n",
       "    .dataframe tbody tr th:only-of-type {\n",
       "        vertical-align: middle;\n",
       "    }\n",
       "\n",
       "    .dataframe tbody tr th {\n",
       "        vertical-align: top;\n",
       "    }\n",
       "\n",
       "    .dataframe thead th {\n",
       "        text-align: right;\n",
       "    }\n",
       "</style>\n",
       "<table border=\"1\" class=\"dataframe\">\n",
       "  <thead>\n",
       "    <tr style=\"text-align: right;\">\n",
       "      <th></th>\n",
       "      <th>R</th>\n",
       "      <th>RA</th>\n",
       "      <th>Inn</th>\n",
       "      <th>Rank</th>\n",
       "      <th>Attendance</th>\n",
       "      <th>Streak</th>\n",
       "    </tr>\n",
       "  </thead>\n",
       "  <tbody>\n",
       "    <tr>\n",
       "      <th>count</th>\n",
       "      <td>19.000000</td>\n",
       "      <td>19.000000</td>\n",
       "      <td>19.000000</td>\n",
       "      <td>19.000000</td>\n",
       "      <td>19.000000</td>\n",
       "      <td>18.000000</td>\n",
       "    </tr>\n",
       "    <tr>\n",
       "      <th>mean</th>\n",
       "      <td>4.052632</td>\n",
       "      <td>3.631579</td>\n",
       "      <td>9.052632</td>\n",
       "      <td>3.105263</td>\n",
       "      <td>21984.368421</td>\n",
       "      <td>0.888889</td>\n",
       "    </tr>\n",
       "    <tr>\n",
       "      <th>std</th>\n",
       "      <td>3.008759</td>\n",
       "      <td>2.521255</td>\n",
       "      <td>0.229416</td>\n",
       "      <td>1.149625</td>\n",
       "      <td>13332.183326</td>\n",
       "      <td>2.494438</td>\n",
       "    </tr>\n",
       "    <tr>\n",
       "      <th>min</th>\n",
       "      <td>0.000000</td>\n",
       "      <td>0.000000</td>\n",
       "      <td>9.000000</td>\n",
       "      <td>2.000000</td>\n",
       "      <td>8475.000000</td>\n",
       "      <td>-3.000000</td>\n",
       "    </tr>\n",
       "    <tr>\n",
       "      <th>25%</th>\n",
       "      <td>2.000000</td>\n",
       "      <td>2.000000</td>\n",
       "      <td>9.000000</td>\n",
       "      <td>2.000000</td>\n",
       "      <td>11733.000000</td>\n",
       "      <td>-1.000000</td>\n",
       "    </tr>\n",
       "    <tr>\n",
       "      <th>50%</th>\n",
       "      <td>3.000000</td>\n",
       "      <td>3.000000</td>\n",
       "      <td>9.000000</td>\n",
       "      <td>3.000000</td>\n",
       "      <td>13412.000000</td>\n",
       "      <td>1.000000</td>\n",
       "    </tr>\n",
       "    <tr>\n",
       "      <th>75%</th>\n",
       "      <td>5.000000</td>\n",
       "      <td>5.500000</td>\n",
       "      <td>9.000000</td>\n",
       "      <td>4.000000</td>\n",
       "      <td>37886.000000</td>\n",
       "      <td>2.000000</td>\n",
       "    </tr>\n",
       "    <tr>\n",
       "      <th>max</th>\n",
       "      <td>11.000000</td>\n",
       "      <td>10.000000</td>\n",
       "      <td>10.000000</td>\n",
       "      <td>5.000000</td>\n",
       "      <td>41931.000000</td>\n",
       "      <td>6.000000</td>\n",
       "    </tr>\n",
       "  </tbody>\n",
       "</table>\n",
       "</div>"
      ],
      "text/plain": [
       "               R         RA        Inn       Rank    Attendance     Streak\n",
       "count  19.000000  19.000000  19.000000  19.000000     19.000000  18.000000\n",
       "mean    4.052632   3.631579   9.052632   3.105263  21984.368421   0.888889\n",
       "std     3.008759   2.521255   0.229416   1.149625  13332.183326   2.494438\n",
       "min     0.000000   0.000000   9.000000   2.000000   8475.000000  -3.000000\n",
       "25%     2.000000   2.000000   9.000000   2.000000  11733.000000  -1.000000\n",
       "50%     3.000000   3.000000   9.000000   3.000000  13412.000000   1.000000\n",
       "75%     5.000000   5.500000   9.000000   4.000000  37886.000000   2.000000\n",
       "max    11.000000  10.000000  10.000000   5.000000  41931.000000   6.000000"
      ]
     },
     "execution_count": 27,
     "metadata": {},
     "output_type": "execute_result"
    }
   ],
   "source": [
    "marlins.describe()"
   ]
  },
  {
   "cell_type": "code",
   "execution_count": 28,
   "metadata": {},
   "outputs": [
    {
     "data": {
      "text/html": [
       "<div>\n",
       "<style scoped>\n",
       "    .dataframe tbody tr th:only-of-type {\n",
       "        vertical-align: middle;\n",
       "    }\n",
       "\n",
       "    .dataframe tbody tr th {\n",
       "        vertical-align: top;\n",
       "    }\n",
       "\n",
       "    .dataframe thead th {\n",
       "        text-align: right;\n",
       "    }\n",
       "</style>\n",
       "<table border=\"1\" class=\"dataframe\">\n",
       "  <thead>\n",
       "    <tr style=\"text-align: right;\">\n",
       "      <th></th>\n",
       "      <th>R</th>\n",
       "      <th>RA</th>\n",
       "      <th>Inn</th>\n",
       "      <th>Rank</th>\n",
       "      <th>Attendance</th>\n",
       "      <th>Streak</th>\n",
       "    </tr>\n",
       "  </thead>\n",
       "  <tbody>\n",
       "    <tr>\n",
       "      <th>count</th>\n",
       "      <td>21.000000</td>\n",
       "      <td>21.000000</td>\n",
       "      <td>21.000000</td>\n",
       "      <td>21.000000</td>\n",
       "      <td>20.000000</td>\n",
       "      <td>20.000000</td>\n",
       "    </tr>\n",
       "    <tr>\n",
       "      <th>mean</th>\n",
       "      <td>4.619048</td>\n",
       "      <td>2.904762</td>\n",
       "      <td>9.095238</td>\n",
       "      <td>1.047619</td>\n",
       "      <td>29110.400000</td>\n",
       "      <td>0.950000</td>\n",
       "    </tr>\n",
       "    <tr>\n",
       "      <th>std</th>\n",
       "      <td>2.268836</td>\n",
       "      <td>2.567192</td>\n",
       "      <td>0.300793</td>\n",
       "      <td>0.218218</td>\n",
       "      <td>6181.033123</td>\n",
       "      <td>1.605091</td>\n",
       "    </tr>\n",
       "    <tr>\n",
       "      <th>min</th>\n",
       "      <td>2.000000</td>\n",
       "      <td>0.000000</td>\n",
       "      <td>9.000000</td>\n",
       "      <td>1.000000</td>\n",
       "      <td>20939.000000</td>\n",
       "      <td>-2.000000</td>\n",
       "    </tr>\n",
       "    <tr>\n",
       "      <th>25%</th>\n",
       "      <td>3.000000</td>\n",
       "      <td>1.000000</td>\n",
       "      <td>9.000000</td>\n",
       "      <td>1.000000</td>\n",
       "      <td>24278.750000</td>\n",
       "      <td>-1.000000</td>\n",
       "    </tr>\n",
       "    <tr>\n",
       "      <th>50%</th>\n",
       "      <td>5.000000</td>\n",
       "      <td>3.000000</td>\n",
       "      <td>9.000000</td>\n",
       "      <td>1.000000</td>\n",
       "      <td>28125.000000</td>\n",
       "      <td>1.000000</td>\n",
       "    </tr>\n",
       "    <tr>\n",
       "      <th>75%</th>\n",
       "      <td>6.000000</td>\n",
       "      <td>5.000000</td>\n",
       "      <td>9.000000</td>\n",
       "      <td>1.000000</td>\n",
       "      <td>33017.500000</td>\n",
       "      <td>2.000000</td>\n",
       "    </tr>\n",
       "    <tr>\n",
       "      <th>max</th>\n",
       "      <td>10.000000</td>\n",
       "      <td>10.000000</td>\n",
       "      <td>10.000000</td>\n",
       "      <td>2.000000</td>\n",
       "      <td>43820.000000</td>\n",
       "      <td>3.000000</td>\n",
       "    </tr>\n",
       "  </tbody>\n",
       "</table>\n",
       "</div>"
      ],
      "text/plain": [
       "               R         RA        Inn       Rank    Attendance     Streak\n",
       "count  21.000000  21.000000  21.000000  21.000000     20.000000  20.000000\n",
       "mean    4.619048   2.904762   9.095238   1.047619  29110.400000   0.950000\n",
       "std     2.268836   2.567192   0.300793   0.218218   6181.033123   1.605091\n",
       "min     2.000000   0.000000   9.000000   1.000000  20939.000000  -2.000000\n",
       "25%     3.000000   1.000000   9.000000   1.000000  24278.750000  -1.000000\n",
       "50%     5.000000   3.000000   9.000000   1.000000  28125.000000   1.000000\n",
       "75%     6.000000   5.000000   9.000000   1.000000  33017.500000   2.000000\n",
       "max    10.000000  10.000000  10.000000   2.000000  43820.000000   3.000000"
      ]
     },
     "execution_count": 28,
     "metadata": {},
     "output_type": "execute_result"
    }
   ],
   "source": [
    "mets.describe()"
   ]
  },
  {
   "cell_type": "code",
   "execution_count": 29,
   "metadata": {},
   "outputs": [
    {
     "data": {
      "text/html": [
       "<div>\n",
       "<style scoped>\n",
       "    .dataframe tbody tr th:only-of-type {\n",
       "        vertical-align: middle;\n",
       "    }\n",
       "\n",
       "    .dataframe tbody tr th {\n",
       "        vertical-align: top;\n",
       "    }\n",
       "\n",
       "    .dataframe thead th {\n",
       "        text-align: right;\n",
       "    }\n",
       "</style>\n",
       "<table border=\"1\" class=\"dataframe\">\n",
       "  <thead>\n",
       "    <tr style=\"text-align: right;\">\n",
       "      <th></th>\n",
       "      <th>R</th>\n",
       "      <th>RA</th>\n",
       "      <th>Inn</th>\n",
       "      <th>Rank</th>\n",
       "      <th>Attendance</th>\n",
       "      <th>Streak</th>\n",
       "    </tr>\n",
       "  </thead>\n",
       "  <tbody>\n",
       "    <tr>\n",
       "      <th>count</th>\n",
       "      <td>22.000000</td>\n",
       "      <td>22.000000</td>\n",
       "      <td>22.0</td>\n",
       "      <td>22.000000</td>\n",
       "      <td>22.000000</td>\n",
       "      <td>21.000000</td>\n",
       "    </tr>\n",
       "    <tr>\n",
       "      <th>mean</th>\n",
       "      <td>3.681818</td>\n",
       "      <td>5.181818</td>\n",
       "      <td>9.0</td>\n",
       "      <td>4.000000</td>\n",
       "      <td>20732.000000</td>\n",
       "      <td>-1.714286</td>\n",
       "    </tr>\n",
       "    <tr>\n",
       "      <th>std</th>\n",
       "      <td>3.329327</td>\n",
       "      <td>3.959754</td>\n",
       "      <td>0.0</td>\n",
       "      <td>1.195229</td>\n",
       "      <td>10419.487233</td>\n",
       "      <td>2.935010</td>\n",
       "    </tr>\n",
       "    <tr>\n",
       "      <th>min</th>\n",
       "      <td>0.000000</td>\n",
       "      <td>0.000000</td>\n",
       "      <td>9.0</td>\n",
       "      <td>2.000000</td>\n",
       "      <td>8676.000000</td>\n",
       "      <td>-8.000000</td>\n",
       "    </tr>\n",
       "    <tr>\n",
       "      <th>25%</th>\n",
       "      <td>2.000000</td>\n",
       "      <td>2.000000</td>\n",
       "      <td>9.0</td>\n",
       "      <td>3.000000</td>\n",
       "      <td>12493.750000</td>\n",
       "      <td>-3.000000</td>\n",
       "    </tr>\n",
       "    <tr>\n",
       "      <th>50%</th>\n",
       "      <td>3.000000</td>\n",
       "      <td>5.000000</td>\n",
       "      <td>9.0</td>\n",
       "      <td>4.500000</td>\n",
       "      <td>18571.500000</td>\n",
       "      <td>-1.000000</td>\n",
       "    </tr>\n",
       "    <tr>\n",
       "      <th>75%</th>\n",
       "      <td>4.000000</td>\n",
       "      <td>6.750000</td>\n",
       "      <td>9.0</td>\n",
       "      <td>5.000000</td>\n",
       "      <td>27350.000000</td>\n",
       "      <td>1.000000</td>\n",
       "    </tr>\n",
       "    <tr>\n",
       "      <th>max</th>\n",
       "      <td>14.000000</td>\n",
       "      <td>16.000000</td>\n",
       "      <td>9.0</td>\n",
       "      <td>5.000000</td>\n",
       "      <td>42263.000000</td>\n",
       "      <td>2.000000</td>\n",
       "    </tr>\n",
       "  </tbody>\n",
       "</table>\n",
       "</div>"
      ],
      "text/plain": [
       "               R         RA   Inn       Rank    Attendance     Streak\n",
       "count  22.000000  22.000000  22.0  22.000000     22.000000  21.000000\n",
       "mean    3.681818   5.181818   9.0   4.000000  20732.000000  -1.714286\n",
       "std     3.329327   3.959754   0.0   1.195229  10419.487233   2.935010\n",
       "min     0.000000   0.000000   9.0   2.000000   8676.000000  -8.000000\n",
       "25%     2.000000   2.000000   9.0   3.000000  12493.750000  -3.000000\n",
       "50%     3.000000   5.000000   9.0   4.500000  18571.500000  -1.000000\n",
       "75%     4.000000   6.750000   9.0   5.000000  27350.000000   1.000000\n",
       "max    14.000000  16.000000   9.0   5.000000  42263.000000   2.000000"
      ]
     },
     "execution_count": 29,
     "metadata": {},
     "output_type": "execute_result"
    }
   ],
   "source": [
    "nationals.describe()"
   ]
  },
  {
   "cell_type": "code",
   "execution_count": 30,
   "metadata": {},
   "outputs": [
    {
     "data": {
      "text/html": [
       "<div>\n",
       "<style scoped>\n",
       "    .dataframe tbody tr th:only-of-type {\n",
       "        vertical-align: middle;\n",
       "    }\n",
       "\n",
       "    .dataframe tbody tr th {\n",
       "        vertical-align: top;\n",
       "    }\n",
       "\n",
       "    .dataframe thead th {\n",
       "        text-align: right;\n",
       "    }\n",
       "</style>\n",
       "<table border=\"1\" class=\"dataframe\">\n",
       "  <thead>\n",
       "    <tr style=\"text-align: right;\">\n",
       "      <th></th>\n",
       "      <th>R</th>\n",
       "      <th>RA</th>\n",
       "      <th>Inn</th>\n",
       "      <th>Rank</th>\n",
       "      <th>Attendance</th>\n",
       "      <th>Streak</th>\n",
       "    </tr>\n",
       "  </thead>\n",
       "  <tbody>\n",
       "    <tr>\n",
       "      <th>count</th>\n",
       "      <td>20.000000</td>\n",
       "      <td>20.000000</td>\n",
       "      <td>20.0</td>\n",
       "      <td>20.000000</td>\n",
       "      <td>20.000000</td>\n",
       "      <td>19.000000</td>\n",
       "    </tr>\n",
       "    <tr>\n",
       "      <th>mean</th>\n",
       "      <td>3.150000</td>\n",
       "      <td>5.900000</td>\n",
       "      <td>9.0</td>\n",
       "      <td>4.400000</td>\n",
       "      <td>31516.700000</td>\n",
       "      <td>-3.947368</td>\n",
       "    </tr>\n",
       "    <tr>\n",
       "      <th>std</th>\n",
       "      <td>2.134306</td>\n",
       "      <td>2.751076</td>\n",
       "      <td>0.0</td>\n",
       "      <td>1.142481</td>\n",
       "      <td>14197.158997</td>\n",
       "      <td>3.703957</td>\n",
       "    </tr>\n",
       "    <tr>\n",
       "      <th>min</th>\n",
       "      <td>0.000000</td>\n",
       "      <td>1.000000</td>\n",
       "      <td>9.0</td>\n",
       "      <td>1.000000</td>\n",
       "      <td>9192.000000</td>\n",
       "      <td>-11.000000</td>\n",
       "    </tr>\n",
       "    <tr>\n",
       "      <th>25%</th>\n",
       "      <td>1.000000</td>\n",
       "      <td>3.750000</td>\n",
       "      <td>9.0</td>\n",
       "      <td>4.500000</td>\n",
       "      <td>22460.500000</td>\n",
       "      <td>-6.500000</td>\n",
       "    </tr>\n",
       "    <tr>\n",
       "      <th>50%</th>\n",
       "      <td>3.000000</td>\n",
       "      <td>6.000000</td>\n",
       "      <td>9.0</td>\n",
       "      <td>5.000000</td>\n",
       "      <td>31217.000000</td>\n",
       "      <td>-3.000000</td>\n",
       "    </tr>\n",
       "    <tr>\n",
       "      <th>75%</th>\n",
       "      <td>5.000000</td>\n",
       "      <td>8.250000</td>\n",
       "      <td>9.0</td>\n",
       "      <td>5.000000</td>\n",
       "      <td>40700.500000</td>\n",
       "      <td>-1.500000</td>\n",
       "    </tr>\n",
       "    <tr>\n",
       "      <th>max</th>\n",
       "      <td>6.000000</td>\n",
       "      <td>10.000000</td>\n",
       "      <td>9.0</td>\n",
       "      <td>5.000000</td>\n",
       "      <td>52995.000000</td>\n",
       "      <td>1.000000</td>\n",
       "    </tr>\n",
       "  </tbody>\n",
       "</table>\n",
       "</div>"
      ],
      "text/plain": [
       "               R         RA   Inn       Rank    Attendance     Streak\n",
       "count  20.000000  20.000000  20.0  20.000000     20.000000  19.000000\n",
       "mean    3.150000   5.900000   9.0   4.400000  31516.700000  -3.947368\n",
       "std     2.134306   2.751076   0.0   1.142481  14197.158997   3.703957\n",
       "min     0.000000   1.000000   9.0   1.000000   9192.000000 -11.000000\n",
       "25%     1.000000   3.750000   9.0   4.500000  22460.500000  -6.500000\n",
       "50%     3.000000   6.000000   9.0   5.000000  31217.000000  -3.000000\n",
       "75%     5.000000   8.250000   9.0   5.000000  40700.500000  -1.500000\n",
       "max     6.000000  10.000000   9.0   5.000000  52995.000000   1.000000"
      ]
     },
     "execution_count": 30,
     "metadata": {},
     "output_type": "execute_result"
    }
   ],
   "source": [
    "phillies.describe()"
   ]
  },
  {
   "cell_type": "markdown",
   "metadata": {},
   "source": [
    "## A look at Wins, Win Percentages, and Games Back\n",
    "Comparing the wins, win percentages, and games back for each team of the NL East"
   ]
  },
  {
   "cell_type": "markdown",
   "metadata": {},
   "source": [
    "First we gather each team's Wins, Losses, and Win Percentages at the time of each game"
   ]
  },
  {
   "cell_type": "code",
   "execution_count": 40,
   "metadata": {},
   "outputs": [],
   "source": [
    "# Gets wins-to-date, losses-to-date, and win_percent-to-date for each team\n",
    "braves['Wins'] = np.where(braves['W/L']=='W', 1, (np.where(braves['W/L']=='W-wo', 1, 0))).cumsum()\n",
    "braves['Losses'] = np.where(braves['W/L']=='L', 1, (np.where(braves['W/L']=='L-wo', 1, 0))).cumsum()\n",
    "braves['Win_Percentage'] = braves['Wins'] / (braves['Wins'] + braves['Losses'])\n",
    "\n",
    "marlins['Wins'] = np.where(marlins['W/L']=='W', 1, (np.where(marlins['W/L']=='W-wo', 1, 0))).cumsum()\n",
    "marlins['Losses'] = np.where(marlins['W/L']=='L', 1, (np.where(marlins['W/L']=='L-wo', 1, 0))).cumsum()\n",
    "marlins['Win_Percentage'] = marlins['Wins'] / (marlins['Wins'] + marlins['Losses'])\n",
    "\n",
    "mets['Wins'] = np.where(mets['W/L']=='W', 1, (np.where(mets['W/L']=='W-wo', 1, 0))).cumsum()\n",
    "mets['Losses'] = np.where(mets['W/L']=='L', 1, (np.where(mets['W/L']=='L-wo', 1, 0))).cumsum()\n",
    "mets['Win_Percentage'] = mets['Wins'] / (mets['Wins'] + mets['Losses'])\n",
    "\n",
    "nationals['Wins'] = np.where(nationals['W/L']=='W', 1, (np.where(nationals['W/L']=='W-wo', 1, 0))).cumsum()\n",
    "nationals['Losses'] = np.where(nationals['W/L']=='L', 1, (np.where(nationals['W/L']=='L-wo', 1, 0))).cumsum()\n",
    "nationals['Win_Percentage'] = nationals['Wins'] / (nationals['Wins'] + nationals['Losses'])\n",
    "\n",
    "phillies['Wins'] = np.where(phillies['W/L']=='W', 1, (np.where(phillies['W/L']=='W-wo', 1, 0))).cumsum()\n",
    "phillies['Losses'] = np.where(phillies['W/L']=='L', 1, (np.where(phillies['W/L']=='L-wo', 1, 0))).cumsum()\n",
    "phillies['Win_Percentage'] = phillies['Wins'] / (phillies['Wins'] + phillies['Losses'])"
   ]
  },
  {
   "cell_type": "markdown",
   "metadata": {},
   "source": [
    "### Graphing Wins and Win Percentages\n",
    "Here we can see that the Braves and marlins were in a tightly contested race all year long. At about game 120 the braveswent into a small slump while the Mets ascended, leading to a short period where the Braves dropped to 3rd place. This didn't last long however, as the Braves got back into a groove and found their way to 2nd and ultimately 1st place."
   ]
  },
  {
   "cell_type": "code",
   "execution_count": 41,
   "metadata": {
    "scrolled": true
   },
   "outputs": [
    {
     "data": {
      "text/plain": [
       "Text(0.5, 1.0, 'NL East Wins Comparison (2022)')"
      ]
     },
     "execution_count": 41,
     "metadata": {},
     "output_type": "execute_result"
    },
    {
     "data": {
      "image/png": "[encoded data removed]",
      "text/plain": [
       "<Figure size 576x432 with 1 Axes>"
      ]
     },
     "metadata": {
      "needs_background": "light"
     },
     "output_type": "display_data"
    }
   ],
   "source": [
    "# Graph Wins Comparison #\n",
    "plt.rcParams[\"figure.figsize\"] = (8,6)\n",
    "\n",
    "plt.plot(braves['Wins'], label='Braves', c='navy')\n",
    "plt.plot(mets['Wins'], label='Mets', c='#b30000')\n",
    "plt.plot(marlins['Wins'], label='Marlins', c='blue')\n",
    "plt.plot(nationals['Wins'], label='Nationals', c='gold')\n",
    "plt.plot(phillies['Wins'], label='Phillies', c='red')\n",
    "\n",
    "plt.xticks(np.arange(0, len(braves.index), step=10))\n",
    "plt.xlabel('Game')\n",
    "plt.ylabel('Wins')\n",
    "\n",
    "plt.legend(loc='lower right')\n",
    "\n",
    "plt.title(\"NL East Wins Comparison ({})\".format(year))"
   ]
  },
  {
   "cell_type": "code",
   "execution_count": 42,
   "metadata": {},
   "outputs": [
    {
     "data": {
      "text/plain": [
       "Text(0.5, 1.0, 'NL East Win Percentage Comparison (2022)')"
      ]
     },
     "execution_count": 42,
     "metadata": {},
     "output_type": "execute_result"
    },
    {
     "data": {
      "image/png": "[encoded data removed]",
      "text/plain": [
       "<Figure size 576x432 with 1 Axes>"
      ]
     },
     "metadata": {
      "needs_background": "light"
     },
     "output_type": "display_data"
    }
   ],
   "source": [
    "# Graph Win Percentage Comparison #\n",
    "plt.rcParams[\"figure.figsize\"] = (8,6)\n",
    "\n",
    "plt.plot(braves['Win_Percentage'], label='Braves', c='navy')\n",
    "plt.plot(mets['Win_Percentage'], label='Mets', c='#b30000')\n",
    "plt.plot(marlins['Win_Percentage'], label='marlins', c='blue')\n",
    "plt.plot(nationals['Win_Percentage'], label='Nationals', c='gold')\n",
    "plt.plot(phillies['Win_Percentage'], label='Phillies', c='red')\n",
    "\n",
    "plt.xticks(np.arange(0, len(braves.index), step=10))\n",
    "plt.xlabel('Game')\n",
    "plt.ylabel('Win Percentage')\n",
    "\n",
    "plt.legend(loc='lower right')\n",
    "\n",
    "plt.title(\"NL East Win Percentage Comparison ({})\".format(year))"
   ]
  },
  {
   "cell_type": "markdown",
   "metadata": {},
   "source": [
    "### Graphing Games Back"
   ]
  },
  {
   "cell_type": "markdown",
   "metadata": {},
   "source": [
    "First we create a modified column to numerically represent 'Games Back'"
   ]
  },
  {
   "cell_type": "code",
   "execution_count": 43,
   "metadata": {
    "collapsed": true
   },
   "outputs": [],
   "source": [
    "# Insert new column called 'int_GB' that represents GB as either negative (meaning behind) or 0.0 meaning in first or tied for first\n",
    "def modify_gb(gb):\n",
    "    if gb == 'Tied':\n",
    "        gb = 0.0\n",
    "    elif 'up' in gb:\n",
    "        gb = 0.0 # float(gb.replace('up ', ''))\n",
    "    else:\n",
    "        gb = -float(gb)\n",
    "    \n",
    "    return gb\n",
    "    \n",
    "braves['int_GB'] = braves['GB'].dropna().apply(modify_gb)\n",
    "mets['int_GB'] = mets['GB'].dropna().apply(modify_gb)\n",
    "marlins['int_GB'] = marlins['GB'].dropna().apply(modify_gb)\n",
    "nationals['int_GB'] = nationals['GB'].dropna().apply(modify_gb)\n",
    "phillies['int_GB'] = phillies['GB'].dropna().apply(modify_gb)"
   ]
  },
  {
   "cell_type": "markdown",
   "metadata": {},
   "source": [
    "#### What the Graph Shows\n",
    "Graphing 'Games Back' gives an even clearer image of how the NL East was contended throughout the year. \n",
    "\n",
    "The Phillies fell to an early 10 Games Back, and never recovered. They ended the year at a season low of 28 Games Back.\n",
    "\n",
    "The nationals, while contending early on, fell to ~13 Games Back mid-season. They showed signs of life in games 90-110, even surpassing the Mets for 3rd place. However, they would soon fall to a season low of ~15 Games Back.\n",
    "\n",
    "The Braves and Marlins were consistely within ~4 Games of each other for most of the season. While the Braves had a rough patch in games 110-135 -- dropping to a season low of 6 Games Back, and falling behind the Mets for 2nd place -- they quickly recovered in the final games of the season. They would go on to defeat the Marlins in a Game 163 Divisional Tie-Breaker, becoming the NL East Champions."
   ]
  },
  {
   "cell_type": "code",
   "execution_count": 44,
   "metadata": {},
   "outputs": [
    {
     "data": {
      "text/plain": [
       "<matplotlib.legend.Legend at 0x1e61110aa00>"
      ]
     },
     "execution_count": 44,
     "metadata": {},
     "output_type": "execute_result"
    },
    {
     "data": {
      "image/png": "[encoded data removed]",
      "text/plain": [
       "<Figure size 576x432 with 1 Axes>"
      ]
     },
     "metadata": {
      "needs_background": "light"
     },
     "output_type": "display_data"
    }
   ],
   "source": [
    "# Graph NL East Games Back Comparison #\n",
    "plt.rcParams[\"figure.figsize\"] = (8,6)\n",
    "\n",
    "plt.plot(braves['int_GB'], label='Braves', c='navy')\n",
    "plt.plot(mets['int_GB'], label='Mets', c='#b30000')\n",
    "plt.plot(marlins['int_GB'], label='Marlins', c='blue')\n",
    "plt.plot(nationals['int_GB'], label='Nationals', c='gold')\n",
    "plt.plot(phillies['int_GB'], label='Phillies', c='red')\n",
    "\n",
    "plt.xticks(np.arange(0, len(braves.index), step=10))\n",
    "plt.yticks(np.arange(0, -30, step=-2))\n",
    "plt.xlabel('Game')\n",
    "plt.ylabel('Games Back (in negative)')\n",
    "\n",
    "plt.title(\"NL East Games Back Comparison ({})\".format(year))\n",
    "plt.legend(loc='lower left')"
   ]
  },
  {
   "cell_type": "markdown",
   "metadata": {},
   "source": [
    "## Graphing Total Runs and Runs Allowed"
   ]
  },
  {
   "cell_type": "markdown",
   "metadata": {},
   "source": [
    "First we create new columns for Total Runs, and Total Runs Allowed"
   ]
  },
  {
   "cell_type": "code",
   "execution_count": 45,
   "metadata": {
    "collapsed": true
   },
   "outputs": [],
   "source": [
    "# Get total runs-to-date and total runs_allowed-to-date for each team\n",
    "braves['Total_Runs'] = braves['R'].cumsum()\n",
    "braves['Total_RA'] = braves['RA'].cumsum()\n",
    "\n",
    "marlins['Total_Runs'] = marlins['R'].cumsum()\n",
    "marlins['Total_RA'] = marlins['RA'].cumsum()\n",
    "\n",
    "mets['Total_Runs'] = mets['R'].cumsum()\n",
    "mets['Total_RA'] = mets['RA'].cumsum()\n",
    "\n",
    "nationals['Total_Runs'] = nationals['R'].cumsum()\n",
    "nationals['Total_RA'] = nationals['RA'].cumsum()\n",
    "\n",
    "phillies['Total_Runs'] = phillies['R'].cumsum()\n",
    "phillies['Total_RA'] = phillies['RA'].cumsum()"
   ]
  },
  {
   "cell_type": "markdown",
   "metadata": {},
   "source": [
    "#### What the Graph Shows\n",
    "Graphing Runs and Runs Allowed illustrates some of the causal factors in each teams divisional rank.\n",
    "\n",
    "The Phillies were scoring Runs at a rate similar to every team but the Marlins most season long. However, they were the worst in Runs Allowed by a large margin. By the end of the season, the Phillies had given up over 800 runs while no other team broke the 700 mark.\n",
    "\n",
    "The Nationals had as similar problem. While they scored at comparable rates to the rest of the division, their pitching didn't fare so well. They were the 2nd worst in Runs Allowed almost all season.\n",
    "\n",
    "The Mets were also scoring at rates comparable to the rest of the division. However, in Runs Allowed they consistently outpaced the Braves and Marlins until late season. \n",
    "\n",
    "You can see the decreased rate of Runs Allowed for the Mets from games 110-130, while in the same stretch of time the Braves saw an increase in their rate of Runs Allowed. This coincides with the time period in which the Mets and Braves swapped for 2nd place.\n",
    "\n",
    "The Marlins consistently outscored the entire division right up to the end of the season. At the same time, their Runs Allowed were close to the Braves all year. By these two graphs alone, I would have predicted the Marlins won the division. It would, however, come down to the final tie-breaker game, with the Braves coming away victorious."
   ]
  },
  {
   "cell_type": "code",
   "execution_count": 46,
   "metadata": {},
   "outputs": [
    {
     "data": {
      "text/plain": [
       "<matplotlib.legend.Legend at 0x1e6111d67f0>"
      ]
     },
     "execution_count": 46,
     "metadata": {},
     "output_type": "execute_result"
    },
    {
     "data": {
      "image/png": "[encoded data removed]",
      "text/plain": [
       "<Figure size 1152x576 with 2 Axes>"
      ]
     },
     "metadata": {
      "needs_background": "light"
     },
     "output_type": "display_data"
    }
   ],
   "source": [
    "# Graph Runs and Runs Allowed Comparisons #\n",
    "plt.rcParams[\"figure.figsize\"] = (16,8)\n",
    "\n",
    "plt.subplot(1,2,1)\n",
    "plt.plot(braves['Total_Runs'], label='Braves', c='navy')\n",
    "plt.plot(mets['Total_Runs'], label='Mets', c='#b30000')\n",
    "plt.plot(marlins['Total_Runs'], label='Marlins', c='blue')\n",
    "plt.plot(nationals['Total_Runs'], label='Nationals', c='gold')\n",
    "plt.plot(phillies['Total_Runs'], label='Phillies', c='red')\n",
    "\n",
    "plt.xticks(np.arange(0, len(braves.index), step=10))\n",
    "plt.xlabel('Game')\n",
    "plt.ylabel('Runs')\n",
    "\n",
    "plt.title(\"NL East Runs Comparison ({})\".format(year))\n",
    "plt.legend(loc='lower right')\n",
    "\n",
    "plt.subplot(1,2,2)\n",
    "plt.plot(braves['Total_RA'], label='Braves', c='navy')\n",
    "plt.plot(mets['Total_RA'], label='Mets', c='#b30000')\n",
    "plt.plot(marlins['Total_RA'], label='Marlins', c='blue')\n",
    "plt.plot(nationals['Total_RA'], label='Nationals', c='gold')\n",
    "plt.plot(phillies['Total_RA'], label='Phillies', c='red')\n",
    "\n",
    "plt.xticks(np.arange(0, len(braves.index), step=10))\n",
    "plt.xlabel('Game')\n",
    "plt.ylabel('Runs Allowed')\n",
    "\n",
    "plt.title(\"NL East Runs Allowed Comparison ({})\".format(year))\n",
    "plt.legend(loc='lower right')"
   ]
  },
  {
   "cell_type": "markdown",
   "metadata": {},
   "source": [
    "### Graphing Total Home Attendance\n",
    "For fun, we take a look at each teams total home attendance throughout the season."
   ]
  },
  {
   "cell_type": "markdown",
   "metadata": {},
   "source": [
    "First we get each teams total home_attendance-to-date"
   ]
  },
  {
   "cell_type": "code",
   "execution_count": 49,
   "metadata": {},
   "outputs": [],
   "source": [
    "braves['Total_Home_Attendance'] = braves[braves['Home_Away'] == 'Home']['Attendance'].dropna().cumsum()\n",
    "marlins['Total_Home_Attendance'] = marlins[marlins['Home_Away'] == 'Home']['Attendance'].dropna().cumsum()\n",
    "mets['Total_Home_Attendance'] = mets[mets['Home_Away'] == 'Home']['Attendance'].dropna().cumsum()\n",
    "nationals['Total_Home_Attendance'] = nationals[nationals['Home_Away'] == 'Home']['Attendance'].dropna().cumsum()\n",
    "phillies['Total_Home_Attendance'] = phillies[phillies['Home_Away'] == 'Home']['Attendance'].dropna().cumsum()"
   ]
  },
  {
   "cell_type": "markdown",
   "metadata": {},
   "source": [
    "#### What the Graph Shows\n",
    "The Phillies and Nationals saw dramatically less people come to the ballpark compared to the rest of the division, with the Nationals coming in last with ~1.5 million attendees.\n",
    "\n",
    "The Marlins beat out the Braves by about 500k attendees. Given Miller Park's capacity (41,900) and Wrigley Field's Capacity (41,649), this seems to show a greater interest from Marlins fans than Braves fans.\n",
    "\n",
    "The Mets come in first at ~3.4 million attendees. This may be caused by Busch Stadium's slightly larger capacity of 49,676."
   ]
  },
  {
   "cell_type": "code",
   "execution_count": 50,
   "metadata": {},
   "outputs": [
    {
     "data": {
      "text/plain": [
       "<matplotlib.legend.Legend at 0x1e60e354c10>"
      ]
     },
     "execution_count": 50,
     "metadata": {},
     "output_type": "execute_result"
    },
    {
     "data": {
      "image/png": "[encoded data removed]",
      "text/plain": [
       "<Figure size 576x576 with 1 Axes>"
      ]
     },
     "metadata": {
      "needs_background": "light"
     },
     "output_type": "display_data"
    }
   ],
   "source": [
    "# Graph Total Home Attendance Comparison #\n",
    "plt.rcParams[\"figure.figsize\"] = (8,8)\n",
    "\n",
    "# Create new Series for home attendance #\n",
    "braves_attendance = braves['Total_Home_Attendance'].dropna()\n",
    "braves_attendance.index = range(len(braves_attendance))\n",
    "\n",
    "mets_attendance = mets['Total_Home_Attendance'].dropna()\n",
    "mets_attendance.index = range(len(mets_attendance))\n",
    "\n",
    "marlins_attendance = marlins['Total_Home_Attendance'].dropna()\n",
    "marlins_attendance.index = range(len(marlins_attendance))\n",
    "\n",
    "nationals_attendance = nationals['Total_Home_Attendance'].dropna()\n",
    "nationals_attendance.index = range(len(nationals_attendance))\n",
    "\n",
    "phillies_attendance = phillies['Total_Home_Attendance'].dropna()\n",
    "phillies_attendance.index = range(len(phillies_attendance))\n",
    "\n",
    "plt.plot(braves_attendance, label='Braves', c='navy')\n",
    "plt.plot(mets_attendance, label='Mets', c='#b30000')\n",
    "plt.plot(marlins_attendance, label='Marlins', c='blue')\n",
    "plt.plot(nationals_attendance, label='Nationals', c='gold')\n",
    "plt.plot(phillies_attendance, label='Phillies', c='red')\n",
    "\n",
    "plt.xlabel('Game')\n",
    "plt.ylabel('Total Season Attendance')\n",
    "\n",
    "plt.title(\"NL East Total Home Attendance Comparison ({})\".format(year))\n",
    "plt.legend(loc='lower right')"
   ]
  }
 ],
 "metadata": {
  "kernelspec": {
   "display_name": "Python 3.9.7 ('PyBaseballenv': venv)",
   "language": "python",
   "name": "python3"
  },
  "language_info": {
   "codemirror_mode": {
    "name": "ipython",
    "version": 3
   },
   "file_extension": ".py",
   "mimetype": "text/x-python",
   "name": "python",
   "nbconvert_exporter": "python",
   "pygments_lexer": "ipython3",
   "version": "3.9.7"
  },
  "vscode": {
   "interpreter": {
    "hash": "6262f9ad0dead13bafad56c9bcf2bbab1da44a36157f9028c533b8033e07215d"
   }
  }
 },
 "nbformat": 4,
 "nbformat_minor": 2
}
